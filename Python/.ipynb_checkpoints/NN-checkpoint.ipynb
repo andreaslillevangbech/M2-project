{
 "cells": [
  {
   "cell_type": "code",
   "execution_count": 1,
   "metadata": {},
   "outputs": [
    {
     "name": "stderr",
     "output_type": "stream",
     "text": [
      "Using TensorFlow backend.\n"
     ]
    },
    {
     "name": "stdout",
     "output_type": "stream",
     "text": [
      "   Unnamed: 0         Y        X1        X2        X3        X4        X5  \\\n",
      "0           1 -0.008751 -0.144204  0.073449  0.172874 -0.354829 -0.044645   \n",
      "1           2 -0.016501  0.400409  0.105899 -0.492753  0.163660  0.131203   \n",
      "2           3  0.100915 -0.387580 -0.178040  0.284180 -0.030406 -0.116767   \n",
      "3           4  0.095073 -0.219716 -0.014305  0.351343  0.268202  0.105462   \n",
      "4           5  0.006130  0.282264  0.149557 -0.070823  0.273824 -0.309345   \n",
      "5           6 -0.083144  0.079929 -0.274689  0.492370 -0.137467  0.162975   \n",
      "6           7 -0.014818  0.009452  0.162206 -0.156530 -0.128760  0.053469   \n",
      "7           8  0.087826  0.257970  0.218494  0.322699  0.133582  0.312357   \n",
      "8           9 -0.019344  0.095346 -0.037835  0.152475  0.042091 -0.135404   \n",
      "9          10 -0.004574 -0.331753  0.045588  0.016681  0.365589  0.501461   \n",
      "\n",
      "         X6        X7        X8  ...       X93       X94       X95       X96  \\\n",
      "0 -0.249352 -0.039039  0.221268  ...  0.119313 -0.093472 -0.019785  0.017063   \n",
      "1 -0.000053 -0.187246  0.320726  ...  0.048012 -0.043439  0.057029  0.024989   \n",
      "2 -0.393756  0.400746  0.082255  ...  0.063241 -0.067098  0.025953 -0.122153   \n",
      "3  0.478531 -0.068249  0.056728  ... -0.009767  0.143703 -0.036710 -0.125152   \n",
      "4 -0.301148 -0.201016  0.125534  ... -0.087297 -0.044276  0.116655 -0.101807   \n",
      "5  0.450421 -0.114387 -0.064158  ... -0.124014  0.087526 -0.037113  0.066198   \n",
      "6  0.197934 -0.255037  0.106710  ... -0.082985 -0.032812  0.009589  0.023763   \n",
      "7 -0.570122  0.167517  0.317673  ... -0.097824 -0.115930 -0.110348 -0.121819   \n",
      "8 -0.245102 -0.267692 -0.088842  ... -0.084018 -0.084729 -0.032165  0.083327   \n",
      "9 -0.010655 -0.205427  0.193335  ...  0.040839  0.041184  0.076640 -0.066116   \n",
      "\n",
      "        X97       X98       X99      X100  time  id  \n",
      "0 -0.004660 -0.141380  0.055646 -0.089336     1   1  \n",
      "1 -0.006621 -0.032121  0.151903  0.094961     1   2  \n",
      "2 -0.048193 -0.009599  0.007083  0.072984     1   3  \n",
      "3  0.123779  0.082151  0.079957 -0.056775     1   4  \n",
      "4 -0.028564  0.036324 -0.010837  0.023813     1   5  \n",
      "5 -0.159075  0.087299  0.051840 -0.183002     1   6  \n",
      "6  0.059389 -0.048352 -0.145583  0.177033     1   7  \n",
      "7  0.100435  0.103189  0.016658 -0.029655     1   8  \n",
      "8 -0.000328  0.079340 -0.034338  0.046915     1   9  \n",
      "9 -0.084263  0.114574 -0.062102  0.018009     1  10  \n",
      "\n",
      "[10 rows x 104 columns]\n"
     ]
    }
   ],
   "source": [
    "import numpy as np\n",
    "import pandas as pd\n",
    "from keras import models\n",
    "from keras import layers, optimizers\n",
    "from keras.callbacks import EarlyStopping, ModelCheckpoint\n",
    "\n",
    "df = pd.read_csv(\"pydf.csv\")\n",
    "\n",
    "print(df.head(10))\n"
   ]
  },
  {
   "cell_type": "code",
   "execution_count": null,
   "metadata": {},
   "outputs": [
    {
     "name": "stdout",
     "output_type": "stream",
     "text": [
      "WARNING:tensorflow:From /Users/alexanderbech/anaconda3/lib/python3.7/site-packages/tensorflow/python/framework/op_def_library.py:263: colocate_with (from tensorflow.python.framework.ops) is deprecated and will be removed in a future version.\n",
      "Instructions for updating:\n",
      "Colocations handled automatically by placer.\n"
     ]
    },
    {
     "name": "stderr",
     "output_type": "stream",
     "text": [
      "/Users/alexanderbech/anaconda3/lib/python3.7/site-packages/pandas/core/frame.py:3940: SettingWithCopyWarning: \n",
      "A value is trying to be set on a copy of a slice from a DataFrame\n",
      "\n",
      "See the caveats in the documentation: http://pandas.pydata.org/pandas-docs/stable/indexing.html#indexing-view-versus-copy\n",
      "  errors=errors)\n"
     ]
    },
    {
     "name": "stdout",
     "output_type": "stream",
     "text": [
      "WARNING:tensorflow:From /Users/alexanderbech/anaconda3/lib/python3.7/site-packages/tensorflow/python/ops/math_ops.py:3066: to_int32 (from tensorflow.python.ops.math_ops) is deprecated and will be removed in a future version.\n",
      "Instructions for updating:\n",
      "Use tf.cast instead.\n"
     ]
    }
   ],
   "source": [
    "train_T = round(max(df['time']) / 2)\n",
    "val_T = round(max(df['time']))*3/4\n",
    "train = df[df['time'] <= train_T]\n",
    "val = df[(train_T < df['time']) & (df['time'] <= val_T)]\n",
    "test = df[df['time'] > val_T]\n",
    "train.drop(['time', 'id'], axis = 1, inplace = True)\n",
    "val.drop(['time', 'id'], axis = 1, inplace = True)\n",
    "test.drop(['time', 'id'], axis = 1, inplace = True)\n",
    "\n",
    "# Split into y and x\n",
    "x_train = train.loc[:,'X1':]\n",
    "y_train = train.loc[:,'Y']\n",
    "x_val = val.loc[:,'X1':]\n",
    "y_val = val.loc[:,'Y']\n",
    "x_test = test.loc[:,'X1':]\n",
    "y_test = test.loc[:,'Y']\n",
    "\n",
    "\n",
    "np.random.seed(0)\n",
    "\n",
    "number_of_features = len(x_train.iloc[1]) \n",
    "\n",
    "# Start neural network\n",
    "network = models.Sequential()\n",
    "\n",
    "# Add fully connected layer with a ReLU activation function\n",
    "network.add(layers.Dense(units=16, activation='relu', input_shape=(number_of_features,)))\n",
    "network.add(layers.normalization.BatchNormalization())\n",
    "\n",
    "# Add fully connected layer with a ReLU activation function\n",
    "network.add(layers.Dense(units=8, activation='relu'))\n",
    "network.add(layers.normalization.BatchNormalization())\n",
    "\n",
    "# Add fully connected layer with a sigmoid activation function\n",
    "network.add(layers.Dense(units=1, activation='linear'))\n",
    "\n",
    "# Compile neural network\n",
    "sgd = optimizers.SGD(lr=0.01, decay=1e-6, momentum=0.9, nesterov=True)\n",
    "network.compile(loss='mean_squared_error', # RSS\n",
    "                optimizer='sgd') # Stochastic gradient descent\n",
    "\n",
    "# Set callback functions to early stop training and save the best model so far\n",
    "callbacks = [EarlyStopping(monitor='val_loss', patience=2),\n",
    "             ModelCheckpoint(filepath='best_model.h5', monitor='val_loss', save_best_only=True)]\n",
    "\n",
    "# Train neural network\n",
    "history = network.fit(x_train, # Features\n",
    "                      y_train, # Target vector\n",
    "                      epochs=100, # Number of epochs\n",
    "                      callbacks=callbacks, # Early stopping\n",
    "                      verbose=0, # Print description after each epoch\n",
    "                      batch_size=32, # Number of observations per batch\n",
    "                      validation_data=(x_val, y_val)) # Data for evaluation\n",
    "\n",
    "# Predict on test set\n",
    "prediction = network.predict(x_test, batch_size=128)\n",
    "mse = np.mean(np.square(prediction[:,0] - y_test))\n",
    "total = np.mean(np.square(y_test - np.mean(y_test)))\n",
    "R2 = 1 - mse/total\n",
    "print(R2)"
   ]
  },
  {
   "cell_type": "code",
   "execution_count": null,
   "metadata": {},
   "outputs": [],
   "source": []
  }
 ],
 "metadata": {
  "kernelspec": {
   "display_name": "Python 3",
   "language": "python",
   "name": "python3"
  },
  "language_info": {
   "codemirror_mode": {
    "name": "ipython",
    "version": 3
   },
   "file_extension": ".py",
   "mimetype": "text/x-python",
   "name": "python",
   "nbconvert_exporter": "python",
   "pygments_lexer": "ipython3",
   "version": "3.7.3"
  }
 },
 "nbformat": 4,
 "nbformat_minor": 2
}
